{
 "cells": [
  {
   "cell_type": "markdown",
   "metadata": {},
   "source": [
    "# Project - Explore Weather Trends"
   ]
  },
  {
   "cell_type": "markdown",
   "metadata": {},
   "source": [
    "## Summary:\n",
    "- Analyze local and global temperature data and compare the temperature trends where you live to overall global temperature trends.\n",
    "- City choosed: Guarulhos - Brazil"
   ]
  },
  {
   "cell_type": "markdown",
   "metadata": {},
   "source": [
    "## Database Schema:\n",
    "- city_list - This contains a list of cities and countries in the database.\n",
    "- city_data - This contains the average temperatures for each city by year (ºC).\n",
    "- global_data - This contains the average global temperatures by year (ºC). "
   ]
  },
  {
   "cell_type": "markdown",
   "metadata": {},
   "source": [
    "## Extract Data:\n",
    "- SQL query to verify the cities available from Brazil:\n",
    "``` mysql\n",
    "SELECT *\n",
    "FROM city_list\n",
    "WHERE country = 'Brazil';\n",
    "```"
   ]
  },
  {
   "cell_type": "markdown",
   "metadata": {},
   "source": [
    "- SQL query to extract the Guarulhos city data:\n",
    "``` mysql\n",
    "SELECT *\n",
    "FROM city_data\n",
    "WHERE city = 'Guarulhos';\n",
    "```"
   ]
  },
  {
   "cell_type": "markdown",
   "metadata": {},
   "source": [
    "- SQL query to extract the global data:\n",
    "``` mysql\n",
    "SELECT *\n",
    "FROM global_data;\n",
    "```"
   ]
  },
  {
   "cell_type": "markdown",
   "metadata": {},
   "source": [
    "## Import Python Libraries:"
   ]
  },
  {
   "cell_type": "code",
   "execution_count": 222,
   "metadata": {},
   "outputs": [],
   "source": [
    "# Import Pandas library to read and explore data\n",
    "import pandas as pd"
   ]
  },
  {
   "cell_type": "code",
   "execution_count": 223,
   "metadata": {},
   "outputs": [],
   "source": [
    "# Import Sklearn Preprocessing to normalize data\n",
    "from sklearn import preprocessing"
   ]
  },
  {
   "cell_type": "code",
   "execution_count": 225,
   "metadata": {},
   "outputs": [],
   "source": [
    "# Import Matplotlib and Seaborn Libraries to create visualization from data\n",
    "%matplotlib inline\n",
    "import matplotlib.pyplot as plt\n",
    "import seaborn as sns"
   ]
  },
  {
   "cell_type": "markdown",
   "metadata": {},
   "source": [
    "## Read and Explore CSV's:"
   ]
  },
  {
   "cell_type": "code",
   "execution_count": 226,
   "metadata": {},
   "outputs": [],
   "source": [
    "# Used Pandas Dataframe to read data from csv's\n",
    "df_global_data = pd.read_csv('global_data.csv')\n",
    "df_city_data_guarulhos = pd.read_csv('city_data_guarulhos.csv')"
   ]
  },
  {
   "cell_type": "markdown",
   "metadata": {},
   "source": [
    "- Global Data:\n",
    "    - We have 256 rows and 2 columns:\n",
    "        - year: Value year;\n",
    "        - avg_temp: Value the year average of temperature;\n",
    "    - Data of years between 1750 and 2015."
   ]
  },
  {
   "cell_type": "markdown",
   "metadata": {},
   "source": [
    "- Guarulhos City Data:\n",
    "    - We have 182 rows and 4 columns:\n",
    "        - year: Value year;\n",
    "        - city: City name;\n",
    "        - country: Country name;\n",
    "        - avg_temp: Value the year average of temperature;\n",
    "    - Data of years between 1832 and 2013.\n",
    "    - Data of avg_temp with null values from years between 1844 and 1850."
   ]
  },
  {
   "cell_type": "code",
   "execution_count": 228,
   "metadata": {},
   "outputs": [
    {
     "data": {
      "text/html": [
       "<div>\n",
       "<style scoped>\n",
       "    .dataframe tbody tr th:only-of-type {\n",
       "        vertical-align: middle;\n",
       "    }\n",
       "\n",
       "    .dataframe tbody tr th {\n",
       "        vertical-align: top;\n",
       "    }\n",
       "\n",
       "    .dataframe thead th {\n",
       "        text-align: right;\n",
       "    }\n",
       "</style>\n",
       "<table border=\"1\" class=\"dataframe\">\n",
       "  <thead>\n",
       "    <tr style=\"text-align: right;\">\n",
       "      <th></th>\n",
       "      <th>year</th>\n",
       "      <th>avg_temp</th>\n",
       "    </tr>\n",
       "  </thead>\n",
       "  <tbody>\n",
       "    <tr>\n",
       "      <th>0</th>\n",
       "      <td>1750</td>\n",
       "      <td>8.72</td>\n",
       "    </tr>\n",
       "  </tbody>\n",
       "</table>\n",
       "</div>"
      ],
      "text/plain": [
       "   year  avg_temp\n",
       "0  1750      8.72"
      ]
     },
     "execution_count": 228,
     "metadata": {},
     "output_type": "execute_result"
    }
   ],
   "source": [
    "# Visualize global dataframe\n",
    "df_global_data.head(1)"
   ]
  },
  {
   "cell_type": "code",
   "execution_count": 229,
   "metadata": {},
   "outputs": [
    {
     "name": "stdout",
     "output_type": "stream",
     "text": [
      "<class 'pandas.core.frame.DataFrame'>\n",
      "RangeIndex: 266 entries, 0 to 265\n",
      "Data columns (total 2 columns):\n",
      "year        266 non-null int64\n",
      "avg_temp    266 non-null float64\n",
      "dtypes: float64(1), int64(1)\n",
      "memory usage: 4.3 KB\n"
     ]
    }
   ],
   "source": [
    "# Visualize info about global dataframe \n",
    "df_global_data.info()"
   ]
  },
  {
   "cell_type": "code",
   "execution_count": 230,
   "metadata": {},
   "outputs": [
    {
     "data": {
      "text/html": [
       "<div>\n",
       "<style scoped>\n",
       "    .dataframe tbody tr th:only-of-type {\n",
       "        vertical-align: middle;\n",
       "    }\n",
       "\n",
       "    .dataframe tbody tr th {\n",
       "        vertical-align: top;\n",
       "    }\n",
       "\n",
       "    .dataframe thead th {\n",
       "        text-align: right;\n",
       "    }\n",
       "</style>\n",
       "<table border=\"1\" class=\"dataframe\">\n",
       "  <thead>\n",
       "    <tr style=\"text-align: right;\">\n",
       "      <th></th>\n",
       "      <th>count</th>\n",
       "      <th>mean</th>\n",
       "      <th>std</th>\n",
       "      <th>min</th>\n",
       "      <th>25%</th>\n",
       "      <th>50%</th>\n",
       "      <th>75%</th>\n",
       "      <th>max</th>\n",
       "    </tr>\n",
       "  </thead>\n",
       "  <tbody>\n",
       "    <tr>\n",
       "      <th>year</th>\n",
       "      <td>266.0</td>\n",
       "      <td>1882.500000</td>\n",
       "      <td>76.931788</td>\n",
       "      <td>1750.00</td>\n",
       "      <td>1816.2500</td>\n",
       "      <td>1882.500</td>\n",
       "      <td>1948.7500</td>\n",
       "      <td>2015.00</td>\n",
       "    </tr>\n",
       "    <tr>\n",
       "      <th>avg_temp</th>\n",
       "      <td>266.0</td>\n",
       "      <td>8.369474</td>\n",
       "      <td>0.584747</td>\n",
       "      <td>5.78</td>\n",
       "      <td>8.0825</td>\n",
       "      <td>8.375</td>\n",
       "      <td>8.7075</td>\n",
       "      <td>9.83</td>\n",
       "    </tr>\n",
       "  </tbody>\n",
       "</table>\n",
       "</div>"
      ],
      "text/plain": [
       "          count         mean        std      min        25%       50%  \\\n",
       "year      266.0  1882.500000  76.931788  1750.00  1816.2500  1882.500   \n",
       "avg_temp  266.0     8.369474   0.584747     5.78     8.0825     8.375   \n",
       "\n",
       "                75%      max  \n",
       "year      1948.7500  2015.00  \n",
       "avg_temp     8.7075     9.83  "
      ]
     },
     "execution_count": 230,
     "metadata": {},
     "output_type": "execute_result"
    }
   ],
   "source": [
    "# Visualize statistics info about global dataframe\n",
    "df_global_data.describe().T"
   ]
  },
  {
   "cell_type": "code",
   "execution_count": 232,
   "metadata": {},
   "outputs": [
    {
     "data": {
      "text/html": [
       "<div>\n",
       "<style scoped>\n",
       "    .dataframe tbody tr th:only-of-type {\n",
       "        vertical-align: middle;\n",
       "    }\n",
       "\n",
       "    .dataframe tbody tr th {\n",
       "        vertical-align: top;\n",
       "    }\n",
       "\n",
       "    .dataframe thead th {\n",
       "        text-align: right;\n",
       "    }\n",
       "</style>\n",
       "<table border=\"1\" class=\"dataframe\">\n",
       "  <thead>\n",
       "    <tr style=\"text-align: right;\">\n",
       "      <th></th>\n",
       "      <th>year</th>\n",
       "      <th>city</th>\n",
       "      <th>country</th>\n",
       "      <th>avg_temp</th>\n",
       "    </tr>\n",
       "  </thead>\n",
       "  <tbody>\n",
       "    <tr>\n",
       "      <th>0</th>\n",
       "      <td>1832</td>\n",
       "      <td>Guarulhos</td>\n",
       "      <td>Brazil</td>\n",
       "      <td>18.94</td>\n",
       "    </tr>\n",
       "  </tbody>\n",
       "</table>\n",
       "</div>"
      ],
      "text/plain": [
       "   year       city country  avg_temp\n",
       "0  1832  Guarulhos  Brazil     18.94"
      ]
     },
     "execution_count": 232,
     "metadata": {},
     "output_type": "execute_result"
    }
   ],
   "source": [
    "# Visualize Guarulhos city dataframe\n",
    "df_city_data_guarulhos.head(1)"
   ]
  },
  {
   "cell_type": "code",
   "execution_count": 233,
   "metadata": {},
   "outputs": [
    {
     "name": "stdout",
     "output_type": "stream",
     "text": [
      "<class 'pandas.core.frame.DataFrame'>\n",
      "RangeIndex: 182 entries, 0 to 181\n",
      "Data columns (total 4 columns):\n",
      "year        182 non-null int64\n",
      "city        182 non-null object\n",
      "country     182 non-null object\n",
      "avg_temp    175 non-null float64\n",
      "dtypes: float64(1), int64(1), object(2)\n",
      "memory usage: 5.8+ KB\n"
     ]
    }
   ],
   "source": [
    "# Visualize info about Guarulhos city dataframe \n",
    "df_city_data_guarulhos.info()"
   ]
  },
  {
   "cell_type": "code",
   "execution_count": 234,
   "metadata": {},
   "outputs": [
    {
     "data": {
      "text/html": [
       "<div>\n",
       "<style scoped>\n",
       "    .dataframe tbody tr th:only-of-type {\n",
       "        vertical-align: middle;\n",
       "    }\n",
       "\n",
       "    .dataframe tbody tr th {\n",
       "        vertical-align: top;\n",
       "    }\n",
       "\n",
       "    .dataframe thead th {\n",
       "        text-align: right;\n",
       "    }\n",
       "</style>\n",
       "<table border=\"1\" class=\"dataframe\">\n",
       "  <thead>\n",
       "    <tr style=\"text-align: right;\">\n",
       "      <th></th>\n",
       "      <th>count</th>\n",
       "      <th>mean</th>\n",
       "      <th>std</th>\n",
       "      <th>min</th>\n",
       "      <th>25%</th>\n",
       "      <th>50%</th>\n",
       "      <th>75%</th>\n",
       "      <th>max</th>\n",
       "    </tr>\n",
       "  </thead>\n",
       "  <tbody>\n",
       "    <tr>\n",
       "      <th>year</th>\n",
       "      <td>182.0</td>\n",
       "      <td>1922.500000</td>\n",
       "      <td>52.683014</td>\n",
       "      <td>1832.00</td>\n",
       "      <td>1877.250</td>\n",
       "      <td>1922.5</td>\n",
       "      <td>1967.75</td>\n",
       "      <td>2013.0</td>\n",
       "    </tr>\n",
       "    <tr>\n",
       "      <th>avg_temp</th>\n",
       "      <td>175.0</td>\n",
       "      <td>19.700057</td>\n",
       "      <td>0.593897</td>\n",
       "      <td>18.28</td>\n",
       "      <td>19.245</td>\n",
       "      <td>19.7</td>\n",
       "      <td>20.09</td>\n",
       "      <td>21.3</td>\n",
       "    </tr>\n",
       "  </tbody>\n",
       "</table>\n",
       "</div>"
      ],
      "text/plain": [
       "          count         mean        std      min       25%     50%      75%  \\\n",
       "year      182.0  1922.500000  52.683014  1832.00  1877.250  1922.5  1967.75   \n",
       "avg_temp  175.0    19.700057   0.593897    18.28    19.245    19.7    20.09   \n",
       "\n",
       "             max  \n",
       "year      2013.0  \n",
       "avg_temp    21.3  "
      ]
     },
     "execution_count": 234,
     "metadata": {},
     "output_type": "execute_result"
    }
   ],
   "source": [
    "# Visualize statistics info about Guarulhos city dataframe\n",
    "df_city_data_guarulhos.describe().T"
   ]
  },
  {
   "cell_type": "code",
   "execution_count": 235,
   "metadata": {},
   "outputs": [
    {
     "data": {
      "text/html": [
       "<div>\n",
       "<style scoped>\n",
       "    .dataframe tbody tr th:only-of-type {\n",
       "        vertical-align: middle;\n",
       "    }\n",
       "\n",
       "    .dataframe tbody tr th {\n",
       "        vertical-align: top;\n",
       "    }\n",
       "\n",
       "    .dataframe thead th {\n",
       "        text-align: right;\n",
       "    }\n",
       "</style>\n",
       "<table border=\"1\" class=\"dataframe\">\n",
       "  <thead>\n",
       "    <tr style=\"text-align: right;\">\n",
       "      <th></th>\n",
       "      <th>year</th>\n",
       "      <th>city</th>\n",
       "      <th>country</th>\n",
       "      <th>avg_temp</th>\n",
       "    </tr>\n",
       "  </thead>\n",
       "  <tbody>\n",
       "    <tr>\n",
       "      <th>12</th>\n",
       "      <td>1844</td>\n",
       "      <td>Guarulhos</td>\n",
       "      <td>Brazil</td>\n",
       "      <td>NaN</td>\n",
       "    </tr>\n",
       "    <tr>\n",
       "      <th>13</th>\n",
       "      <td>1845</td>\n",
       "      <td>Guarulhos</td>\n",
       "      <td>Brazil</td>\n",
       "      <td>NaN</td>\n",
       "    </tr>\n",
       "    <tr>\n",
       "      <th>14</th>\n",
       "      <td>1846</td>\n",
       "      <td>Guarulhos</td>\n",
       "      <td>Brazil</td>\n",
       "      <td>NaN</td>\n",
       "    </tr>\n",
       "    <tr>\n",
       "      <th>15</th>\n",
       "      <td>1847</td>\n",
       "      <td>Guarulhos</td>\n",
       "      <td>Brazil</td>\n",
       "      <td>NaN</td>\n",
       "    </tr>\n",
       "    <tr>\n",
       "      <th>16</th>\n",
       "      <td>1848</td>\n",
       "      <td>Guarulhos</td>\n",
       "      <td>Brazil</td>\n",
       "      <td>NaN</td>\n",
       "    </tr>\n",
       "    <tr>\n",
       "      <th>17</th>\n",
       "      <td>1849</td>\n",
       "      <td>Guarulhos</td>\n",
       "      <td>Brazil</td>\n",
       "      <td>NaN</td>\n",
       "    </tr>\n",
       "    <tr>\n",
       "      <th>18</th>\n",
       "      <td>1850</td>\n",
       "      <td>Guarulhos</td>\n",
       "      <td>Brazil</td>\n",
       "      <td>NaN</td>\n",
       "    </tr>\n",
       "  </tbody>\n",
       "</table>\n",
       "</div>"
      ],
      "text/plain": [
       "    year       city country  avg_temp\n",
       "12  1844  Guarulhos  Brazil       NaN\n",
       "13  1845  Guarulhos  Brazil       NaN\n",
       "14  1846  Guarulhos  Brazil       NaN\n",
       "15  1847  Guarulhos  Brazil       NaN\n",
       "16  1848  Guarulhos  Brazil       NaN\n",
       "17  1849  Guarulhos  Brazil       NaN\n",
       "18  1850  Guarulhos  Brazil       NaN"
      ]
     },
     "execution_count": 235,
     "metadata": {},
     "output_type": "execute_result"
    }
   ],
   "source": [
    "# Verify and visualize rows with null values from Guarulhos city dataframe\n",
    "df_city_data_guarulhos[(df_city_data_guarulhos['avg_temp'].isnull())]"
   ]
  },
  {
   "cell_type": "markdown",
   "metadata": {},
   "source": [
    "## Data Prep:"
   ]
  },
  {
   "cell_type": "markdown",
   "metadata": {},
   "source": [
    "- Before section visualization of data we gonna have to preparer of dataframes:\n",
    "    - Adjust of years range:\n",
    "        - Remove the rows with years range between 1832 and 2013 and below 1832 and above 2013, because this data is missing from Guarulhos city dataframe;\n",
    "    - Create de columns with moving average temperature (window=5) from Guarulhos city and global dataframes.\n",
    "    - Adjust column name.\n",
    "    - Create the columns with data of temperature normalize scale, because of the scale difference of the values.\n",
    "    - Join all data in one dataframe:\n",
    "        - year: Values year;\n",
    "        - city: City name;\n",
    "        - country: Country name;\n",
    "        - avg_temp_guarulhos: Values average temperature from Guarulhos city;\n",
    "        - 5_year_ma_guarulhos: Values moving average temperature from Guarulhos city;\n",
    "        - avg_temp_global: Values average temperature from global;\n",
    "        - 5_year_ma_global: Values moving average temperature from global;\n",
    "        - avg_temp_guarulhos_normalize: Values average temperature normalize from Guarulhos city;\n",
    "        - avg_temp_guarulhos_normalize_5_ma: Values moving average temperature normalize from Guarulhos city;\n",
    "        - avg_temp_global_normalize: Values average temperature normalize from global;\n",
    "        - avg_temp_global_normalize_5_ma: Values moving average temperature normalize from global;"
   ]
  },
  {
   "cell_type": "code",
   "execution_count": 236,
   "metadata": {},
   "outputs": [],
   "source": [
    "# Remove the rows with years range between 1832 and 2013 and below 1832 and above 2013 from global dataframe\n",
    "df_global_data_prep = df_global_data[((df_global_data['year'] >= 1832) & (df_global_data['year'] <= 1843)) | ((df_global_data['year'] >= 1851) & (df_global_data['year'] <= 2013))].reset_index(drop=True)"
   ]
  },
  {
   "cell_type": "code",
   "execution_count": 237,
   "metadata": {},
   "outputs": [],
   "source": [
    "# Remove the rows with null values from Guarulhos city dataframe\n",
    "df_city_data_guarulhos_prep = df_city_data_guarulhos.dropna().reset_index(drop=True)"
   ]
  },
  {
   "cell_type": "code",
   "execution_count": 238,
   "metadata": {},
   "outputs": [],
   "source": [
    "# Create the column with moving average temperature values for windows=5 from global dataframe. Used the function rolling from Pandas to calculate the moving average\n",
    "df_global_data_prep['5_year_ma_global'] = df_global_data_prep.iloc[:,1].rolling(window=5).mean()"
   ]
  },
  {
   "cell_type": "code",
   "execution_count": 245,
   "metadata": {},
   "outputs": [],
   "source": [
    "# Create the column with moving average temperature values for windows=5 from Guarulhos city dataframe. Used the function rolling from Pandas to calculate the moving average\n",
    "df_city_data_guarulhos_prep['5_year_ma_guarulhos'] = df_city_data_guarulhos_prep.iloc[:,3].rolling(window=5).mean()"
   ]
  },
  {
   "cell_type": "code",
   "execution_count": 240,
   "metadata": {},
   "outputs": [],
   "source": [
    "# Rename the column avg_temp to avg_temp_global from global dataframe\n",
    "df_global_data_prep.rename(columns={'avg_temp': 'avg_temp_global'}, inplace=True)"
   ]
  },
  {
   "cell_type": "code",
   "execution_count": 241,
   "metadata": {},
   "outputs": [],
   "source": [
    "# Rename the column avg_temp to avg_temp_guarulhos from Guarulhos city dataframe\n",
    "df_city_data_guarulhos_prep.rename(columns={'avg_temp': 'avg_temp_guarulhos'}, inplace=True)"
   ]
  },
  {
   "cell_type": "code",
   "execution_count": 242,
   "metadata": {},
   "outputs": [],
   "source": [
    "# Join the dataframes global and Guarulhos city with year column as key\n",
    "df_data_join = df_city_data_guarulhos_prep.join(df_global_data_prep.set_index('year'), on='year')"
   ]
  },
  {
   "cell_type": "code",
   "execution_count": 243,
   "metadata": {},
   "outputs": [],
   "source": [
    "# Use the classe preprocessing from library Sklearn to normalize scale from avg_temp_guarulhos and avg_temp_global values\n",
    "y1 = df_data_join['avg_temp_guarulhos'].values\n",
    "y2 = df_data_join['avg_temp_global'].values\n",
    "y1 = y1.reshape(-1, 1)\n",
    "y2 = y2.reshape(-1, 1)\n",
    "min_max_scaler = preprocessing.MinMaxScaler()\n",
    "y1_scaled = min_max_scaler.fit_transform(y1)\n",
    "y2_scaled = min_max_scaler.fit_transform(y2)"
   ]
  },
  {
   "cell_type": "code",
   "execution_count": 244,
   "metadata": {},
   "outputs": [],
   "source": [
    "# Create the columns with normalize scale values\n",
    "df_data_join['avg_temp_guarulhos_normalize'] = y1_scaled\n",
    "df_data_join['avg_temp_global_normalize'] = y2_scaled"
   ]
  },
  {
   "cell_type": "code",
   "execution_count": 246,
   "metadata": {},
   "outputs": [],
   "source": [
    "# Create the column with moving average temperature values for windows=5 from global and Guarulhos city dataframes. Used the function rolling from Pandas to calculate the moving average\n",
    "df_data_join['avg_temp_guarulhos_normalize_5_ma'] = df_data_join['avg_temp_guarulhos_normalize'].rolling(window=5).mean()\n",
    "df_data_join['avg_temp_global_normalize_5_ma'] = df_data_join['avg_temp_global_normalize'].rolling(window=5).mean()"
   ]
  },
  {
   "cell_type": "code",
   "execution_count": 248,
   "metadata": {},
   "outputs": [
    {
     "data": {
      "text/html": [
       "<div>\n",
       "<style scoped>\n",
       "    .dataframe tbody tr th:only-of-type {\n",
       "        vertical-align: middle;\n",
       "    }\n",
       "\n",
       "    .dataframe tbody tr th {\n",
       "        vertical-align: top;\n",
       "    }\n",
       "\n",
       "    .dataframe thead th {\n",
       "        text-align: right;\n",
       "    }\n",
       "</style>\n",
       "<table border=\"1\" class=\"dataframe\">\n",
       "  <thead>\n",
       "    <tr style=\"text-align: right;\">\n",
       "      <th></th>\n",
       "      <th>year</th>\n",
       "      <th>city</th>\n",
       "      <th>country</th>\n",
       "      <th>avg_temp_guarulhos</th>\n",
       "      <th>5_year_ma_guarulhos</th>\n",
       "      <th>avg_temp_global</th>\n",
       "      <th>5_year_ma_global</th>\n",
       "      <th>avg_temp_guarulhos_normalize</th>\n",
       "      <th>avg_temp_global_normalize</th>\n",
       "      <th>avg_temp_guarulhos_normalize_5_ma</th>\n",
       "      <th>avg_temp_global_normalize_5_ma</th>\n",
       "    </tr>\n",
       "  </thead>\n",
       "  <tbody>\n",
       "    <tr>\n",
       "      <th>0</th>\n",
       "      <td>1832</td>\n",
       "      <td>Guarulhos</td>\n",
       "      <td>Brazil</td>\n",
       "      <td>18.94</td>\n",
       "      <td>NaN</td>\n",
       "      <td>7.45</td>\n",
       "      <td>NaN</td>\n",
       "      <td>0.218543</td>\n",
       "      <td>0.029787</td>\n",
       "      <td>NaN</td>\n",
       "      <td>NaN</td>\n",
       "    </tr>\n",
       "    <tr>\n",
       "      <th>1</th>\n",
       "      <td>1833</td>\n",
       "      <td>Guarulhos</td>\n",
       "      <td>Brazil</td>\n",
       "      <td>19.93</td>\n",
       "      <td>NaN</td>\n",
       "      <td>8.01</td>\n",
       "      <td>NaN</td>\n",
       "      <td>0.546358</td>\n",
       "      <td>0.268085</td>\n",
       "      <td>NaN</td>\n",
       "      <td>NaN</td>\n",
       "    </tr>\n",
       "    <tr>\n",
       "      <th>2</th>\n",
       "      <td>1834</td>\n",
       "      <td>Guarulhos</td>\n",
       "      <td>Brazil</td>\n",
       "      <td>19.21</td>\n",
       "      <td>NaN</td>\n",
       "      <td>8.15</td>\n",
       "      <td>NaN</td>\n",
       "      <td>0.307947</td>\n",
       "      <td>0.327660</td>\n",
       "      <td>NaN</td>\n",
       "      <td>NaN</td>\n",
       "    </tr>\n",
       "    <tr>\n",
       "      <th>3</th>\n",
       "      <td>1835</td>\n",
       "      <td>Guarulhos</td>\n",
       "      <td>Brazil</td>\n",
       "      <td>18.62</td>\n",
       "      <td>NaN</td>\n",
       "      <td>7.39</td>\n",
       "      <td>NaN</td>\n",
       "      <td>0.112583</td>\n",
       "      <td>0.004255</td>\n",
       "      <td>NaN</td>\n",
       "      <td>NaN</td>\n",
       "    </tr>\n",
       "    <tr>\n",
       "      <th>4</th>\n",
       "      <td>1836</td>\n",
       "      <td>Guarulhos</td>\n",
       "      <td>Brazil</td>\n",
       "      <td>18.84</td>\n",
       "      <td>19.108</td>\n",
       "      <td>7.70</td>\n",
       "      <td>7.74</td>\n",
       "      <td>0.185430</td>\n",
       "      <td>0.136170</td>\n",
       "      <td>0.274172</td>\n",
       "      <td>0.153191</td>\n",
       "    </tr>\n",
       "  </tbody>\n",
       "</table>\n",
       "</div>"
      ],
      "text/plain": [
       "   year       city country  avg_temp_guarulhos  5_year_ma_guarulhos  \\\n",
       "0  1832  Guarulhos  Brazil               18.94                  NaN   \n",
       "1  1833  Guarulhos  Brazil               19.93                  NaN   \n",
       "2  1834  Guarulhos  Brazil               19.21                  NaN   \n",
       "3  1835  Guarulhos  Brazil               18.62                  NaN   \n",
       "4  1836  Guarulhos  Brazil               18.84               19.108   \n",
       "\n",
       "   avg_temp_global  5_year_ma_global  avg_temp_guarulhos_normalize  \\\n",
       "0             7.45               NaN                      0.218543   \n",
       "1             8.01               NaN                      0.546358   \n",
       "2             8.15               NaN                      0.307947   \n",
       "3             7.39               NaN                      0.112583   \n",
       "4             7.70              7.74                      0.185430   \n",
       "\n",
       "   avg_temp_global_normalize  avg_temp_guarulhos_normalize_5_ma  \\\n",
       "0                   0.029787                                NaN   \n",
       "1                   0.268085                                NaN   \n",
       "2                   0.327660                                NaN   \n",
       "3                   0.004255                                NaN   \n",
       "4                   0.136170                           0.274172   \n",
       "\n",
       "   avg_temp_global_normalize_5_ma  \n",
       "0                             NaN  \n",
       "1                             NaN  \n",
       "2                             NaN  \n",
       "3                             NaN  \n",
       "4                        0.153191  "
      ]
     },
     "execution_count": 248,
     "metadata": {},
     "output_type": "execute_result"
    }
   ],
   "source": [
    "# Visualize final dataframe\n",
    "df_data_join.head(5)"
   ]
  },
  {
   "cell_type": "markdown",
   "metadata": {},
   "source": [
    "## Visualizations:"
   ]
  },
  {
   "cell_type": "markdown",
   "metadata": {},
   "source": [
    "- Visualize 5-Years Moving Average from Global and Guarulhos city temperature"
   ]
  },
  {
   "cell_type": "code",
   "execution_count": 249,
   "metadata": {},
   "outputs": [],
   "source": [
    "# Use function melt from Pandas to adjust data\n",
    "df_view = df_data_join[['year', '5_year_ma_guarulhos', '5_year_ma_global']].melt('year', var_name='cols_year_ma', value_name='vals_year_ma')"
   ]
  },
  {
   "cell_type": "code",
   "execution_count": 250,
   "metadata": {},
   "outputs": [],
   "source": [
    "# Define dimensions from plot\n",
    "dims = (15, 5)"
   ]
  },
  {
   "cell_type": "code",
   "execution_count": 251,
   "metadata": {},
   "outputs": [
    {
     "data": {
      "image/png": "[encoded data removed]",
      "text/plain": [
       "<Figure size 1080x360 with 1 Axes>"
      ]
     },
     "metadata": {
      "needs_background": "light"
     },
     "output_type": "display_data"
    }
   ],
   "source": [
    "# Line chart plot visualization with adjust of labels. Used Matlibplot and Seaborn libraries\n",
    "fig, ax = plt.subplots(figsize=dims)\n",
    "sns_ax = sns.lineplot(ax=ax, x='year', y='vals_year_ma', hue='cols_year_ma', style='cols_year_ma', data=df_view)\n",
    "sns_ax.set(xlabel='Year', ylabel='Temperature (ºC)', title='Moving AVG Temperature - Guarulhos X Global')\n",
    "plt.legend(labels=['Guarulhos', 'Global'])\n",
    "plt.show()"
   ]
  },
  {
   "cell_type": "markdown",
   "metadata": {},
   "source": [
    "- Visualize 5-Years Moving Average Normalize Scale\n",
    "    - Because the scale difference between global and Guarulhos average temperature is big, I decided to normalize to better visualization of trends."
   ]
  },
  {
   "cell_type": "code",
   "execution_count": 252,
   "metadata": {},
   "outputs": [],
   "source": [
    "# Use function melt from Pandas to adjust data\n",
    "df_view_normalize = df_data_join[['year', 'avg_temp_guarulhos_normalize_5_ma', 'avg_temp_global_normalize_5_ma']].melt('year', var_name='cols_year_ma', value_name='vals_year_ma')"
   ]
  },
  {
   "cell_type": "code",
   "execution_count": 253,
   "metadata": {},
   "outputs": [],
   "source": [
    "# Define dimensions from plot\n",
    "dims = (15, 5)"
   ]
  },
  {
   "cell_type": "code",
   "execution_count": 256,
   "metadata": {},
   "outputs": [
    {
     "data": {
      "image/png": "[encoded data removed]",
      "text/plain": [
       "<Figure size 1080x360 with 1 Axes>"
      ]
     },
     "metadata": {
      "needs_background": "light"
     },
     "output_type": "display_data"
    }
   ],
   "source": [
    "# Line chart plot visualization with adjust of labels. Used Matlibplot and Seaborn libraries\n",
    "fig, ax = plt.subplots(figsize=dims)\n",
    "sns_ax = sns.lineplot(ax=ax, x='year', y='vals_year_ma', hue='cols_year_ma', style='cols_year_ma', data=df_view_normalize)\n",
    "sns_ax.set(xlabel='Year', ylabel='Normalize Scale', title='Moving AVG Temperature Normalize Scale - Guarulhos X Global')\n",
    "plt.legend(labels=['Guarulhos', 'Global'])\n",
    "plt.show()"
   ]
  },
  {
   "cell_type": "markdown",
   "metadata": {},
   "source": [
    "## Conclusions:"
   ]
  },
  {
   "cell_type": "markdown",
   "metadata": {},
   "source": [
    "- Looking at the 'Moving AVG Temperature - Guarulhos X Global' chart:\n",
    "    - The Guarulhos average temperature is warmer than the global average temperature and this has been consistent over time. We can say that is almost double.\n",
    "    - Over the years, the average temperatures have been rising to both."
   ]
  },
  {
   "cell_type": "markdown",
   "metadata": {},
   "source": [
    "- Looking at the 'Moving AVG Temperature Normalize Scale - Guarulhos X Global' chart:\n",
    "    - We can see more clearly the tendency of temperature increase and for some time both the curves were similar.\n",
    "    - But we looking the last 10 years the global curve steepened more. The world getting hotter.\n",
    "    - But the Guarulhos curve change to a downward trend."
   ]
  },
  {
   "cell_type": "markdown",
   "metadata": {},
   "source": [
    "- Looking for some more information below:\n",
    "    - The last 100 years the average temperature from Guarulhos increased by 2%, while the global increased by 16% the same period.\n",
    "    - The last 10 years the average temperature from Guarulhos decreased by 3%, while the global increased by 1% the same period. Showing the global warming trend, but Guarulhos is in a downward trend."
   ]
  },
  {
   "cell_type": "code",
   "execution_count": 297,
   "metadata": {},
   "outputs": [
    {
     "data": {
      "text/html": [
       "<div>\n",
       "<style scoped>\n",
       "    .dataframe tbody tr th:only-of-type {\n",
       "        vertical-align: middle;\n",
       "    }\n",
       "\n",
       "    .dataframe tbody tr th {\n",
       "        vertical-align: top;\n",
       "    }\n",
       "\n",
       "    .dataframe thead th {\n",
       "        text-align: right;\n",
       "    }\n",
       "</style>\n",
       "<table border=\"1\" class=\"dataframe\">\n",
       "  <thead>\n",
       "    <tr style=\"text-align: right;\">\n",
       "      <th></th>\n",
       "      <th>year</th>\n",
       "      <th>avg_temp_guarulhos</th>\n",
       "      <th>avg_temp_global</th>\n",
       "    </tr>\n",
       "  </thead>\n",
       "  <tbody>\n",
       "    <tr>\n",
       "      <th>174</th>\n",
       "      <td>2013</td>\n",
       "      <td>20.07</td>\n",
       "      <td>9.61</td>\n",
       "    </tr>\n",
       "  </tbody>\n",
       "</table>\n",
       "</div>"
      ],
      "text/plain": [
       "     year  avg_temp_guarulhos  avg_temp_global\n",
       "174  2013               20.07             9.61"
      ]
     },
     "execution_count": 297,
     "metadata": {},
     "output_type": "execute_result"
    }
   ],
   "source": [
    "# Get the latest data\n",
    "df_data_join[['year', 'avg_temp_guarulhos', 'avg_temp_global']].tail(1)"
   ]
  },
  {
   "cell_type": "code",
   "execution_count": 298,
   "metadata": {},
   "outputs": [
    {
     "data": {
      "text/html": [
       "<div>\n",
       "<style scoped>\n",
       "    .dataframe tbody tr th:only-of-type {\n",
       "        vertical-align: middle;\n",
       "    }\n",
       "\n",
       "    .dataframe tbody tr th {\n",
       "        vertical-align: top;\n",
       "    }\n",
       "\n",
       "    .dataframe thead th {\n",
       "        text-align: right;\n",
       "    }\n",
       "</style>\n",
       "<table border=\"1\" class=\"dataframe\">\n",
       "  <thead>\n",
       "    <tr style=\"text-align: right;\">\n",
       "      <th></th>\n",
       "      <th>year</th>\n",
       "      <th>avg_temp_guarulhos</th>\n",
       "      <th>avg_temp_global</th>\n",
       "    </tr>\n",
       "  </thead>\n",
       "  <tbody>\n",
       "    <tr>\n",
       "      <th>74</th>\n",
       "      <td>1913</td>\n",
       "      <td>19.72</td>\n",
       "      <td>8.3</td>\n",
       "    </tr>\n",
       "  </tbody>\n",
       "</table>\n",
       "</div>"
      ],
      "text/plain": [
       "    year  avg_temp_guarulhos  avg_temp_global\n",
       "74  1913               19.72              8.3"
      ]
     },
     "execution_count": 298,
     "metadata": {},
     "output_type": "execute_result"
    }
   ],
   "source": [
    "# Get the row 100 ago\n",
    "df_data_join[['year', 'avg_temp_guarulhos', 'avg_temp_global']].tail(101).head(1)"
   ]
  },
  {
   "cell_type": "code",
   "execution_count": 304,
   "metadata": {},
   "outputs": [
    {
     "data": {
      "text/html": [
       "<div>\n",
       "<style scoped>\n",
       "    .dataframe tbody tr th:only-of-type {\n",
       "        vertical-align: middle;\n",
       "    }\n",
       "\n",
       "    .dataframe tbody tr th {\n",
       "        vertical-align: top;\n",
       "    }\n",
       "\n",
       "    .dataframe thead th {\n",
       "        text-align: right;\n",
       "    }\n",
       "</style>\n",
       "<table border=\"1\" class=\"dataframe\">\n",
       "  <thead>\n",
       "    <tr style=\"text-align: right;\">\n",
       "      <th></th>\n",
       "      <th>year</th>\n",
       "      <th>avg_temp_guarulhos</th>\n",
       "      <th>avg_temp_global</th>\n",
       "    </tr>\n",
       "  </thead>\n",
       "  <tbody>\n",
       "    <tr>\n",
       "      <th>164</th>\n",
       "      <td>2003</td>\n",
       "      <td>20.76</td>\n",
       "      <td>9.53</td>\n",
       "    </tr>\n",
       "  </tbody>\n",
       "</table>\n",
       "</div>"
      ],
      "text/plain": [
       "     year  avg_temp_guarulhos  avg_temp_global\n",
       "164  2003               20.76             9.53"
      ]
     },
     "execution_count": 304,
     "metadata": {},
     "output_type": "execute_result"
    }
   ],
   "source": [
    "# Get the row 10 ago\n",
    "df_data_join[['year', 'avg_temp_guarulhos', 'avg_temp_global']].tail(11).head(1)"
   ]
  },
  {
   "cell_type": "code",
   "execution_count": 299,
   "metadata": {},
   "outputs": [
    {
     "data": {
      "text/plain": [
       "2.0000000000000018"
      ]
     },
     "execution_count": 299,
     "metadata": {},
     "output_type": "execute_result"
    }
   ],
   "source": [
    "# Get the average temperature increased at last 100 years from Guarulhos\n",
    "(round(20.07/19.72, 2) - 1) * 100"
   ]
  },
  {
   "cell_type": "code",
   "execution_count": 300,
   "metadata": {},
   "outputs": [
    {
     "data": {
      "text/plain": [
       "15.999999999999993"
      ]
     },
     "execution_count": 300,
     "metadata": {},
     "output_type": "execute_result"
    }
   ],
   "source": [
    "# Get the average temperature increased at last 100 years from global\n",
    "(round(9.61/8.3, 2) - 1) * 100"
   ]
  },
  {
   "cell_type": "code",
   "execution_count": 302,
   "metadata": {},
   "outputs": [
    {
     "data": {
      "text/plain": [
       "-3.0000000000000027"
      ]
     },
     "execution_count": 302,
     "metadata": {},
     "output_type": "execute_result"
    }
   ],
   "source": [
    "# Get the average temperature increased at last 10 years from Guarulhos\n",
    "(round(20.07/20.76, 2) - 1) * 100"
   ]
  },
  {
   "cell_type": "code",
   "execution_count": 303,
   "metadata": {},
   "outputs": [
    {
     "data": {
      "text/plain": [
       "1.0000000000000009"
      ]
     },
     "execution_count": 303,
     "metadata": {},
     "output_type": "execute_result"
    }
   ],
   "source": [
    "# Get the average temperature increased at last 100 years from global\n",
    "(round(9.61/9.53, 2) - 1) * 100"
   ]
  }
 ],
 "metadata": {
  "kernelspec": {
   "display_name": "Python 3",
   "language": "python",
   "name": "python3"
  },
  "language_info": {
   "codemirror_mode": {
    "name": "ipython",
    "version": 3
   },
   "file_extension": ".py",
   "mimetype": "text/x-python",
   "name": "python",
   "nbconvert_exporter": "python",
   "pygments_lexer": "ipython3",
   "version": "3.8.0"
  }
 },
 "nbformat": 4,
 "nbformat_minor": 4
}
